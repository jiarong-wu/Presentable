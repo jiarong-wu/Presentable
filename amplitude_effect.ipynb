{
 "cells": [
  {
   "cell_type": "code",
   "execution_count": 1,
   "metadata": {},
   "outputs": [],
   "source": [
    "import pandas as pd\n",
    "import numpy as np\n",
    "import math\n",
    "import os\n",
    "from matplotlib import pyplot as plt\n",
    "import sys\n",
    "from scipy.interpolate import griddata\n",
    "from tqdm import tqdm\n",
    "# sys.path.append('/Users/jiarong/Google Drive/codes/jiarongw-postprocessing/functions')\n",
    "sys.path.append('/home/jiarong/research/postprocessing/functions/')\n",
    "from Amplitude import Amplitude\n",
    "from fio import readin"
   ]
  },
  {
   "cell_type": "code",
   "execution_count": 2,
   "metadata": {},
   "outputs": [],
   "source": [
    "# Helper function 1 that read in one set of parameter with the time given in postfix_index_set\n",
    "def iter_onecase(postfix_index_set, tag_set, tag_common):\n",
    "    '''\n",
    "    postfix_index_set: list of numbers\n",
    "        A list of corresponding indices used to distinguish the cases.\n",
    "    tag_set: list of strings\n",
    "        A list of tags that distinguish each case, can be different from the index set \n",
    "    \n",
    "    '''\n",
    "\n",
    "    # Instantiate amplitude as a list\n",
    "    amplitude = []\n",
    "    \n",
    "    for i,(index,tag) in enumerate(zip(postfix_index_set, tag_set)):   \n",
    "        # Use the enhanced read-in function   \n",
    "        # Rewrite the line according to the file naming \n",
    "        # filename = 'filename_common' + '%g' %postfix_index + file_format\n",
    "        filename = './eta' + '%g' %index\n",
    "        # Rewrite this line according to the delimiter and the fields attributes\n",
    "        eta, exists = readin(filename, table_delimiter = ',')\n",
    "        if exists:\n",
    "            eta.rename(columns={'pos':'eta'}, inplace=True)\n",
    "            # Instantiate a amplitude class member\n",
    "            ampl = Amplitude(eta[['x', 'eta', 'f']])\n",
    "            amplitude.append(ampl)\n",
    "    return amplitude, exists"
   ]
  },
  {
   "cell_type": "code",
   "execution_count": 3,
   "metadata": {},
   "outputs": [],
   "source": [
    "# Helper function 2 that iterates through different parameter set \n",
    "def iter_para_newversion(para_pair_set, para_name, common_path, postfix_index, tag):\n",
    "    amplitude_set = []\n",
    "    energydirect_set = []\n",
    "    for p in tqdm(para_pair_set):\n",
    "        # Assemble the directory name corresponding to each parameter set\n",
    "        # Example: dirname = './linear_m5B0Ustar0.5ak0.05Bo3.45Re31000.LEVEL10'\n",
    "        dirname = 'linear_m5B0'\n",
    "        for i,name in enumerate(para_name):\n",
    "            if name == 'Re':\n",
    "                dirname += name + '%g' %p[i] + '.'\n",
    "            else:\n",
    "                dirname += name + '%g' %p[i]  \n",
    "        # Change path \n",
    "        os.chdir(common_path + dirname)\n",
    "        # Call iter_onecase, pass directory name as a parameter\n",
    "        amplitude, exists = iter_onecase(postfix_index_set=postfix_index, tag_set=tag, tag_common = 't = ')\n",
    "        # If the file does not exceed, do not append\n",
    "        if exists:\n",
    "            amplitude_set.append(amplitude)\n",
    "        energy, exists = readin('budgetWaterwind.dat', table_delimiter = ' ', skipn = 100)\n",
    "        if exists:\n",
    "            # HERE IS THE DIFFERENCE! \n",
    "            # total = energy.ke/2 + energy.gpe\n",
    "            total = energy.ke + energy.gpe\n",
    "            diss = np.zeros(energy.shape[0])\n",
    "            for i, row in energy.iterrows():\n",
    "                if i == 0:\n",
    "                    diss[i] = 0\n",
    "                    last_t = row['t'] # record t in last row\n",
    "                else:\n",
    "                    diss[i] = diss[i-1] + row['dissipation'] * (row['t'] - last_t)\n",
    "                    last_t = row['t']\n",
    "            energy.insert(len(energy.columns), \"total\", total, True)\n",
    "            energy.insert(len(energy.columns), \"total_diss\", total+diss, True)\n",
    "            energydirect_set.append(energy)       \n",
    "    return amplitude_set, energydirect_set"
   ]
  },
  {
   "cell_type": "code",
   "execution_count": null,
   "metadata": {},
   "outputs": [],
   "source": []
  },
  {
   "cell_type": "code",
   "execution_count": null,
   "metadata": {},
   "outputs": [],
   "source": []
  }
 ],
 "metadata": {
  "kernelspec": {
   "display_name": "Python 3",
   "language": "python",
   "name": "python3"
  },
  "language_info": {
   "codemirror_mode": {
    "name": "ipython",
    "version": 3
   },
   "file_extension": ".py",
   "mimetype": "text/x-python",
   "name": "python",
   "nbconvert_exporter": "python",
   "pygments_lexer": "ipython3",
   "version": "3.7.3"
  }
 },
 "nbformat": 4,
 "nbformat_minor": 2
}
